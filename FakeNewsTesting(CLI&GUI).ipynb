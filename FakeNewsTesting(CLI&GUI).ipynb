{
  "nbformat": 4,
  "nbformat_minor": 0,
  "metadata": {
    "colab": {
      "provenance": [],
      "authorship_tag": "ABX9TyP5X9TGFqKtbbvRVRv3msUp",
      "include_colab_link": true
    },
    "kernelspec": {
      "name": "python3",
      "display_name": "Python 3"
    },
    "language_info": {
      "name": "python"
    }
  },
  "cells": [
    {
      "cell_type": "markdown",
      "metadata": {
        "id": "view-in-github",
        "colab_type": "text"
      },
      "source": [
        "<a href=\"https://colab.research.google.com/github/RehanFastians/FakeNewsDetector/blob/main/FakeNewsTesting(CLI%26GUI).ipynb\" target=\"_parent\"><img src=\"https://colab.research.google.com/assets/colab-badge.svg\" alt=\"Open In Colab\"/></a>"
      ]
    },
    {
      "cell_type": "code",
      "execution_count": null,
      "metadata": {
        "colab": {
          "base_uri": "https://localhost:8080/"
        },
        "id": "GrTZKCKdvN2a",
        "outputId": "f205adb0-7794-46fb-dece-4d2f0688505c"
      },
      "outputs": [
        {
          "output_type": "stream",
          "name": "stdout",
          "text": [
            "\u001b[2K     \u001b[90m━━━━━━━━━━━━━━━━━━━━━━━━━━━━━━━━━━━━━━━━\u001b[0m \u001b[32m44.3/44.3 kB\u001b[0m \u001b[31m1.6 MB/s\u001b[0m eta \u001b[36m0:00:00\u001b[0m\n",
            "\u001b[2K   \u001b[90m━━━━━━━━━━━━━━━━━━━━━━━━━━━━━━━━━━━━━━━━\u001b[0m \u001b[32m9.9/9.9 MB\u001b[0m \u001b[31m63.7 MB/s\u001b[0m eta \u001b[36m0:00:00\u001b[0m\n",
            "\u001b[2K   \u001b[90m━━━━━━━━━━━━━━━━━━━━━━━━━━━━━━━━━━━━━━━━\u001b[0m \u001b[32m6.9/6.9 MB\u001b[0m \u001b[31m75.1 MB/s\u001b[0m eta \u001b[36m0:00:00\u001b[0m\n",
            "\u001b[2K   \u001b[90m━━━━━━━━━━━━━━━━━━━━━━━━━━━━━━━━━━━━━━━━\u001b[0m \u001b[32m79.1/79.1 kB\u001b[0m \u001b[31m7.9 MB/s\u001b[0m eta \u001b[36m0:00:00\u001b[0m\n",
            "\u001b[?25h"
          ]
        }
      ],
      "source": [
        "!pip install -q streamlit pyngrok transformers requests"
      ]
    },
    {
      "cell_type": "code",
      "source": [
        "%%writefile app.py\n",
        "import streamlit as st\n",
        "import requests\n",
        "from transformers import pipeline\n",
        "\n",
        "# === Config ===\n",
        "GNEWS_API_KEY = \"389981ede1c11322cc318e2bbbc34e0f\"  # ← Replace this\n",
        "GNEWS_URL = \"https://gnews.io/api/v4/search\"\n",
        "\n",
        "# === Load Classifier ===\n",
        "@st.cache_resource\n",
        "def load_model():\n",
        "    return pipeline(\n",
        "        \"text-classification\",\n",
        "        model=\"jy46604790/Fake-News-Bert-Detect\",\n",
        "        tokenizer=\"jy46604790/Fake-News-Bert-Detect\"\n",
        "    )\n",
        "\n",
        "classifier = load_model()\n",
        "\n",
        "# === GNews Search ===\n",
        "def search_gnews(statement):\n",
        "    params = {'q': statement, 'token': GNEWS_API_KEY, 'lang': 'en', 'max': 5}\n",
        "    try:\n",
        "        res = requests.get(\"https://gnews.io/api/v4/search\", params=params)\n",
        "        return res.json().get(\"articles\", [])\n",
        "    except Exception as e:\n",
        "        return []\n",
        "\n",
        "# === App UI ===\n",
        "st.title(\"📰 Fake News Detector\")\n",
        "st.markdown(\"Enter a news statement to classify it as **REAL** or **FAKE** with confidence, and see real-time news support.\")\n",
        "\n",
        "user_input = st.text_input(\"🔎 Enter a news claim:\")\n",
        "\n",
        "if user_input:\n",
        "    result = classifier(user_input[:500])[0]\n",
        "    label = \"REAL\" if result[\"label\"] == \"LABEL_1\" else \"FAKE\"\n",
        "    confidence = round(result[\"score\"], 2)\n",
        "\n",
        "    st.subheader(\"📊 Prediction by Model\")\n",
        "    st.write(f\"**Label**: `{label}`\")\n",
        "    st.write(f\"**Confidence**: `{confidence*100}%`\")\n",
        "\n",
        "    # Fetch News\n",
        "    articles = search_gnews(user_input)\n",
        "    if articles:\n",
        "        st.subheader(\"📰 Related News Articles\")\n",
        "        for article in articles:\n",
        "            st.markdown(f\"- [{article['title']}]({article['url']})\")\n",
        "    else:\n",
        "        st.warning(\"No related news found.\")\n",
        "\n",
        "    # Verdict\n",
        "    st.subheader(\"🧠 Verdict by internet surfing\")\n",
        "    if label == \"FAKE\" and articles:\n",
        "        st.info(\"⚠️ Likely FAKE, but some similar news found. Cross-check.\")\n",
        "    elif label == \"FAKE\":\n",
        "        st.error(\"❌ FAKE — no supporting real news found.\")\n",
        "    elif label == \"REAL\" and confidence > 0.9:\n",
        "        st.success(\"✅ REAL — high confidence.\")\n",
        "    else:\n",
        "        st.info(\"✅ Possibly REAL — verify using relevant sources.\")\n"
      ],
      "metadata": {
        "colab": {
          "base_uri": "https://localhost:8080/"
        },
        "id": "La4RH13_vY6s",
        "outputId": "9faa8dfa-a41e-42cb-b54a-22d3a548e7e4"
      },
      "execution_count": null,
      "outputs": [
        {
          "output_type": "stream",
          "name": "stdout",
          "text": [
            "Writing app.py\n"
          ]
        }
      ]
    },
    {
      "cell_type": "code",
      "source": [
        "from pyngrok import ngrok, conf\n",
        "import os\n",
        "\n",
        "# Set your authtoken\n",
        "conf.get_default().auth_token = \"2zX6PaLPBsPyILCnaeaTRPzEzZX_2kYNkYsRHVaqsobeAgMTa\"\n",
        "\n",
        "# Kill previous tunnels (if any)\n",
        "ngrok.kill()\n",
        "\n",
        "# Start tunnel\n",
        "public_url = ngrok.connect(addr=\"8501\", proto=\"http\")\n",
        "\n",
        "print(\"🔗 Your Streamlit app is live at:\", public_url)\n",
        "\n",
        "# Launch Streamlit\n",
        "!streamlit run app.py &> /dev/null &"
      ],
      "metadata": {
        "colab": {
          "base_uri": "https://localhost:8080/"
        },
        "id": "_ZwG1AYJvpdQ",
        "outputId": "7c92b36d-2f31-4c3c-c165-a7f3ef0d1a3a"
      },
      "execution_count": null,
      "outputs": [
        {
          "output_type": "stream",
          "name": "stdout",
          "text": [
            "🔗 Your Streamlit app is live at: NgrokTunnel: \"https://1c6e1f7c77f3.ngrok-free.app\" -> \"http://localhost:8501\"\n"
          ]
        }
      ]
    },
    {
      "cell_type": "code",
      "source": [
        "ngrok.kill()"
      ],
      "metadata": {
        "id": "DAgUesSavvKG"
      },
      "execution_count": null,
      "outputs": []
    },
    {
      "cell_type": "code",
      "source": [],
      "metadata": {
        "id": "cqZV60R-yIpL"
      },
      "execution_count": null,
      "outputs": []
    }
  ]
}