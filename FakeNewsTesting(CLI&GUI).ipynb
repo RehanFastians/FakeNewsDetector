{
  "nbformat": 4,
  "nbformat_minor": 0,
  "metadata": {
    "colab": {
      "provenance": [],
      "authorship_tag": "ABX9TyNlFJyg4jkotJ8AHTtUg8dg",
      "include_colab_link": true
    },
    "kernelspec": {
      "name": "python3",
      "display_name": "Python 3"
    },
    "language_info": {
      "name": "python"
    }
  },
  "cells": [
    {
      "cell_type": "markdown",
      "metadata": {
        "id": "view-in-github",
        "colab_type": "text"
      },
      "source": [
        "<a href=\"https://colab.research.google.com/github/RehanFastians/FakeNewsDetector/blob/main/FakeNewsTesting(CLI%26GUI).ipynb\" target=\"_parent\"><img src=\"https://colab.research.google.com/assets/colab-badge.svg\" alt=\"Open In Colab\"/></a>"
      ]
    },
    {
      "cell_type": "code",
      "execution_count": 20,
      "metadata": {
        "id": "GrTZKCKdvN2a"
      },
      "outputs": [],
      "source": [
        "!pip install -q streamlit pyngrok transformers requests python-dotenv"
      ]
    },
    {
      "cell_type": "code",
      "source": [
        "%%writefile .env\n",
        "GNEWS_API_KEY=\"X\"\n",
        "NGROK_AUTH_TOKEN = \"X\"\n"
      ],
      "metadata": {
        "colab": {
          "base_uri": "https://localhost:8080/"
        },
        "id": "aL5U-Fe4sjND",
        "outputId": "130243d6-96ad-4d05-eff2-08e848f7fd4e"
      },
      "execution_count": 21,
      "outputs": [
        {
          "output_type": "stream",
          "name": "stdout",
          "text": [
            "Writing .env\n"
          ]
        }
      ]
    },
    {
      "cell_type": "code",
      "source": [
        "%%writefile app.py\n",
        "import streamlit as st\n",
        "import requests\n",
        "from transformers import pipeline\n",
        "# Setting up API keys\n",
        "from dotenv import load_dotenv\n",
        "load_dotenv()\n",
        "import os\n",
        "GNEWS_API_KEY = os.getenv(\"GNEWS_API_KEY\")\n",
        "GNEWS_URL = \"https://gnews.io/api/v4/search\"\n",
        "\n",
        "# Setting up model\n",
        "@st.cache_resource\n",
        "def load_model():\n",
        "    return pipeline(\n",
        "        \"text-classification\",\n",
        "        model=\"jy46604790/Fake-News-Bert-Detect\",\n",
        "        tokenizer=\"jy46604790/Fake-News-Bert-Detect\"\n",
        "    )\n",
        "\n",
        "classifier = load_model()\n",
        "\n",
        "# function to search queries through GNews API\n",
        "def search_gnews(statement):\n",
        "    params = {'q': statement, 'token': GNEWS_API_KEY, 'lang': 'en', 'max': 5}\n",
        "    try:\n",
        "        res = requests.get(\"https://gnews.io/api/v4/search\", params=params)\n",
        "        return res.json().get(\"articles\", [])\n",
        "    except Exception as e:\n",
        "        return []\n",
        "\n",
        "# Web Based User Interface\n",
        "st.title(\"📰 Fake News Detector\")\n",
        "st.markdown(\"Enter a news statement to classify it as **REAL** or **FAKE** with confidence, and see real-time news support.\")\n",
        "\n",
        "user_input = st.text_input(\"🔎 Enter a news claim:\")\n",
        "\n",
        "if user_input:\n",
        "    result = classifier(user_input[:500])[0]\n",
        "    label = \"REAL\" if result[\"label\"] == \"LABEL_1\" else \"FAKE\"\n",
        "    confidence = round(result[\"score\"], 2)\n",
        "\n",
        "    st.subheader(\"📊 Prediction by Model\")\n",
        "    st.write(f\"**Label**: `{label}`\")\n",
        "    st.write(f\"**Confidence**: `{confidence*100}%`\")\n",
        "\n",
        "    # Fetch News through GNews API (searches trusted news sources)\n",
        "    articles = search_gnews(user_input)\n",
        "    if articles:\n",
        "        st.subheader(\"📰 Related News Articles\")\n",
        "        for article in articles:\n",
        "            st.markdown(f\"- [{article['title']}]({article['url']})\")\n",
        "    else:\n",
        "        st.warning(\"No related news found.\")\n",
        "\n",
        "    # Verdict a/c to fetched result\n",
        "    st.subheader(\"🧠 Verdict by internet surfing\")\n",
        "    if label == \"FAKE\" and articles:\n",
        "        st.info(\"⚠️ Likely FAKE, but some similar news found. Cross-check.\")\n",
        "    elif label == \"FAKE\":\n",
        "        st.error(\"❌ FAKE — no supporting real news found.\")\n",
        "    elif label == \"REAL\" and confidence > 0.9:\n",
        "        st.success(\"✅ REAL — high confidence.\")\n",
        "    else:\n",
        "        st.info(\"✅ Possibly REAL — verify using relevant sources.\")\n"
      ],
      "metadata": {
        "colab": {
          "base_uri": "https://localhost:8080/"
        },
        "id": "La4RH13_vY6s",
        "outputId": "37c71ef7-9322-4b03-9e77-05aaf990519f"
      },
      "execution_count": 22,
      "outputs": [
        {
          "output_type": "stream",
          "name": "stdout",
          "text": [
            "Overwriting app.py\n"
          ]
        }
      ]
    },
    {
      "cell_type": "code",
      "source": [
        "from pyngrok import ngrok, conf\n",
        "\n",
        "ngrok.set_auth_token(os.getenv(\"NGROK_AUTH_TOKEN\"))\n",
        "# Kill previous tunnels cause its a free version so only one channel is allowed\n",
        "ngrok.kill()\n",
        "\n",
        "# Starting tunnel for streamlit\n",
        "public_url = ngrok.connect(addr=\"8501\", proto=\"http\")\n",
        "\n",
        "print(\"🔗 Your Streamlit app is live at:\", public_url)\n",
        "\n",
        "# Launching application\n",
        "!streamlit run app.py &> /dev/null &"
      ],
      "metadata": {
        "colab": {
          "base_uri": "https://localhost:8080/"
        },
        "id": "_ZwG1AYJvpdQ",
        "outputId": "5242a98d-e266-43f0-c669-8c47841027dc"
      },
      "execution_count": 25,
      "outputs": [
        {
          "output_type": "stream",
          "name": "stdout",
          "text": [
            "🔗 Your Streamlit app is live at: NgrokTunnel: \"https://1d742382a898.ngrok-free.app\" -> \"http://localhost:8501\"\n"
          ]
        }
      ]
    },
    {
      "cell_type": "code",
      "source": [],
      "metadata": {
        "id": "cqZV60R-yIpL"
      },
      "execution_count": null,
      "outputs": []
    }
  ]
}